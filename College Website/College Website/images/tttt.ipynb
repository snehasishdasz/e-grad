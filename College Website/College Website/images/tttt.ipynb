{
 "cells": [
  {
   "cell_type": "code",
   "execution_count": 6,
   "metadata": {},
   "outputs": [],
   "source": [
    "def max_and_min_after_digit_replacement(num):\n",
    "    num_str = str(num)\n",
    "    min_val = num\n",
    "    max_val = num\n",
    "    \n",
    "    for i in range(len(num_str)):\n",
    "        for j in range(10):\n",
    "            new_num_str = num_str[:i] + str(j) + num_str[i+1:]\n",
    "            new_num = int(new_num_str)\n",
    "            if new_num < min_val:\n",
    "                min_val = new_num\n",
    "            if new_num > max_val:\n",
    "                max_val = new_num\n",
    "    return max_val - min_val"
   ]
  },
  {
   "cell_type": "code",
   "execution_count": null,
   "metadata": {},
   "outputs": [],
   "source": []
  }
 ],
 "metadata": {
  "kernelspec": {
   "display_name": "Python 3",
   "language": "python",
   "name": "python3"
  },
  "language_info": {
   "codemirror_mode": {
    "name": "ipython",
    "version": 3
   },
   "file_extension": ".py",
   "mimetype": "text/x-python",
   "name": "python",
   "nbconvert_exporter": "python",
   "pygments_lexer": "ipython3",
   "version": "3.10.5"
  },
  "orig_nbformat": 4,
  "vscode": {
   "interpreter": {
    "hash": "76ecda6b46937b85af8c03b5e21dbd4e0f4d90d7b8cf4921ca0d2e7514300722"
   }
  }
 },
 "nbformat": 4,
 "nbformat_minor": 2
}
